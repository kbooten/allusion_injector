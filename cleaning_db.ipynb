{
 "cells": [
  {
   "cell_type": "markdown",
   "id": "9ad5fdcd",
   "metadata": {},
   "source": [
    "# Cleaning\n",
    "\n",
    "Removing some unwanted target words from the allusion database."
   ]
  },
  {
   "cell_type": "code",
   "execution_count": 1,
   "id": "657a7007",
   "metadata": {},
   "outputs": [],
   "source": [
    "import sqlite3\n",
    "connection = sqlite3.connect(\"wiki_to_use.db\")\n",
    "cursor = connection.cursor()"
   ]
  },
  {
   "cell_type": "markdown",
   "id": "aaa36767",
   "metadata": {},
   "source": [
    "**Get rid of everything but `VERB`,`NOUN`, and `ADJ` targets.**"
   ]
  },
  {
   "cell_type": "code",
   "execution_count": 2,
   "id": "ca2f77d0",
   "metadata": {},
   "outputs": [],
   "source": [
    "cursor.execute(\"SELECT target,target_pos FROM allusions\")\n",
    "rows = cursor.fetchall()\n",
    "\n",
    "word_pos_tups = []\n",
    "\n",
    "for r in rows:\n",
    "    word_pos_tups.append(r)"
   ]
  },
  {
   "cell_type": "code",
   "execution_count": 3,
   "id": "0d914bc1",
   "metadata": {},
   "outputs": [
    {
     "data": {
      "text/plain": [
       "2255871"
      ]
     },
     "execution_count": 3,
     "metadata": {},
     "output_type": "execute_result"
    }
   ],
   "source": [
    "len(word_pos_tups)"
   ]
  },
  {
   "cell_type": "code",
   "execution_count": 4,
   "id": "cb1ff481",
   "metadata": {},
   "outputs": [
    {
     "data": {
      "text/plain": [
       "[('child', 'NOUN'),\n",
       " ('ease', 'VERB'),\n",
       " ('Modest', 'ADJ'),\n",
       " ('juvenalian', 'ADJ'),\n",
       " ('satirical', 'ADJ')]"
      ]
     },
     "execution_count": 4,
     "metadata": {},
     "output_type": "execute_result"
    }
   ],
   "source": [
    "word_pos_tups[:5]"
   ]
  },
  {
   "cell_type": "code",
   "execution_count": 5,
   "id": "8ee6d129",
   "metadata": {},
   "outputs": [
    {
     "data": {
      "text/plain": [
       "['NUM',\n",
       " 'ADV',\n",
       " 'ADP',\n",
       " 'NOUN',\n",
       " 'AUX',\n",
       " 'PROPN',\n",
       " 'PUNCT',\n",
       " 'SCONJ',\n",
       " 'VERB',\n",
       " 'SYM',\n",
       " 'CCONJ',\n",
       " 'ADJ',\n",
       " 'DET',\n",
       " 'PART',\n",
       " 'INTJ',\n",
       " 'PRON',\n",
       " 'X']"
      ]
     },
     "execution_count": 5,
     "metadata": {},
     "output_type": "execute_result"
    }
   ],
   "source": [
    "all_target_tags = list(set([tag for word,tag in word_pos_tups]))\n",
    "all_target_tags"
   ]
  },
  {
   "cell_type": "code",
   "execution_count": 6,
   "id": "d544d738",
   "metadata": {},
   "outputs": [],
   "source": [
    "for tag in all_target_tags:\n",
    "    if tag not in [\"ADJ\",\"NOUN\",\"VERB\"]:\n",
    "        cursor.execute(\"DELETE from allusions WHERE target_pos=?\", (tag,))\n",
    "connection.commit()"
   ]
  },
  {
   "cell_type": "markdown",
   "id": "57130634",
   "metadata": {},
   "source": [
    "**Get rid of everything that isn't in wordnet with the correct part of speech.**"
   ]
  },
  {
   "cell_type": "code",
   "execution_count": 7,
   "id": "91fc8e51",
   "metadata": {},
   "outputs": [],
   "source": [
    "cursor.execute(\"SELECT target,target_pos FROM allusions\")\n",
    "rows = cursor.fetchall()\n",
    "\n",
    "word_pos_tups = []\n",
    "\n",
    "for r in rows:\n",
    "    word_pos_tups.append(r)"
   ]
  },
  {
   "cell_type": "code",
   "execution_count": 8,
   "id": "927f2f03",
   "metadata": {},
   "outputs": [
    {
     "name": "stderr",
     "output_type": "stream",
     "text": [
      "[nltk_data] Downloading package omw-1.4 to /Users/kyle/nltk_data...\n",
      "[nltk_data]   Package omw-1.4 is already up-to-date!\n"
     ]
    },
    {
     "data": {
      "text/plain": [
       "True"
      ]
     },
     "execution_count": 8,
     "metadata": {},
     "output_type": "execute_result"
    }
   ],
   "source": [
    "import nltk\n",
    "nltk.download('omw-1.4')"
   ]
  },
  {
   "cell_type": "code",
   "execution_count": 9,
   "id": "79dcea05",
   "metadata": {},
   "outputs": [],
   "source": [
    "from nltk.corpus import wordnet"
   ]
  },
  {
   "cell_type": "code",
   "execution_count": 10,
   "id": "166b6474",
   "metadata": {},
   "outputs": [],
   "source": [
    "#wordnet.synsets('dog','p')"
   ]
  },
  {
   "cell_type": "code",
   "execution_count": 11,
   "id": "af461005",
   "metadata": {},
   "outputs": [
    {
     "data": {
      "text/plain": [
       "[('child', 'NOUN'),\n",
       " ('ease', 'VERB'),\n",
       " ('Modest', 'ADJ'),\n",
       " ('juvenalian', 'ADJ'),\n",
       " ('satirical', 'ADJ'),\n",
       " ('british', 'ADJ'),\n",
       " ('juvenalian', 'ADJ'),\n",
       " ('satirical', 'ADJ'),\n",
       " ('essay', 'NOUN'),\n",
       " ('papist', 'NOUN')]"
      ]
     },
     "execution_count": 11,
     "metadata": {},
     "output_type": "execute_result"
    }
   ],
   "source": [
    "word_pos_tups[:10]"
   ]
  },
  {
   "cell_type": "code",
   "execution_count": 12,
   "id": "106f85a6",
   "metadata": {},
   "outputs": [
    {
     "name": "stdout",
     "output_type": "stream",
     "text": [
      "CPU times: user 3.68 s, sys: 59.1 ms, total: 3.74 s\n",
      "Wall time: 3.76 s\n"
     ]
    }
   ],
   "source": [
    "%%time\n",
    "\n",
    "to_delete_based_on_wordnet = []\n",
    "for word,tag in list(set(word_pos_tups)):\n",
    "    synsets = wordnet.synsets(word.lower(), pos=tag.lower()[0])\n",
    "    if len(synsets)==0:\n",
    "        to_delete_based_on_wordnet.append((word,tag))\n",
    "#         cursor.execute(\"DELETE from allusions WHERE (target=? AND target_pos=?)\", (word,tag))\n",
    "#connection.commit()"
   ]
  },
  {
   "cell_type": "code",
   "execution_count": 13,
   "id": "a417e45f",
   "metadata": {},
   "outputs": [
    {
     "data": {
      "text/plain": [
       "18044"
      ]
     },
     "execution_count": 13,
     "metadata": {},
     "output_type": "execute_result"
    }
   ],
   "source": [
    "len(to_delete_based_on_wordnet)"
   ]
  },
  {
   "cell_type": "code",
   "execution_count": 14,
   "id": "1795b560",
   "metadata": {},
   "outputs": [],
   "source": [
    "from tqdm import tqdm"
   ]
  },
  {
   "cell_type": "code",
   "execution_count": 15,
   "id": "716fdb10",
   "metadata": {},
   "outputs": [
    {
     "name": "stderr",
     "output_type": "stream",
     "text": [
      "100%|█████████████████████████████████████| 18044/18044 [53:48<00:00,  5.59it/s]\n"
     ]
    }
   ],
   "source": [
    "## huh...outrageously slow to delete from sqlite\n",
    "## should not have used sqlite\n",
    "## should have used a dictionary\n",
    "## too late now, maybe change later\n",
    "for i in tqdm(to_delete_based_on_wordnet):\n",
    "    synsets = wordnet.synsets(word.lower(), pos=tag.lower()[0])\n",
    "    cursor.execute(\"DELETE from allusions WHERE (target=? AND target_pos=?)\", i)\n",
    "\n",
    "connection.commit()"
   ]
  },
  {
   "cell_type": "markdown",
   "id": "408bf26e",
   "metadata": {},
   "source": [
    "**Stopwords+**"
   ]
  },
  {
   "cell_type": "code",
   "execution_count": 16,
   "id": "147129a5",
   "metadata": {},
   "outputs": [],
   "source": [
    "from nltk import corpus\n",
    "from nltk import FreqDist\n",
    "\n",
    "bc = corpus.brown.words()\n",
    "\n",
    "from nltk import pos_tag\n",
    "bc_tagged = pos_tag(bc)\n",
    "\n",
    "bc_nouns = [w.lower() for w,t in bc_tagged if t==\"NN\"]\n",
    "bc_adjectives = [w.lower() for w,t in bc_tagged if t==\"JJ\"]\n",
    "bc_verbs = [w.lower() for w,t in bc_tagged if t in [\"VB\",\"VBZ\"]]"
   ]
  },
  {
   "cell_type": "code",
   "execution_count": 17,
   "id": "2448ec3f",
   "metadata": {
    "scrolled": false
   },
   "outputs": [
    {
     "name": "stdout",
     "output_type": "stream",
     "text": [
      "['the', ',', '.', 'of', 'and', 'to', 'a', 'in', 'that', 'is', 'was', 'he', 'for', '``', \"''\", 'it', 'with', 'as', 'his', 'on', 'be', ';', 'at', 'by', 'i', 'this', 'had', '?', 'not', 'are', 'but', 'from', 'or', 'have', 'an', 'they', 'which', '--', 'one', 'you', 'were', 'her', 'all', 'she', 'there', 'would', 'their', 'we', 'him', 'been', ')', 'has', '(', 'when', 'who', 'will', 'more', 'if', 'no', 'out', 'so', 'said', 'what', 'up', 'its', 'about', ':', 'into', 'than', 'them', 'can', 'only', 'other', 'new', 'some', 'could', 'time', '!', 'these', 'two', 'may', 'then', 'do', 'first', 'any', 'my', 'now', 'such', 'like', 'our', 'over', 'man', 'me', 'even', 'most', 'made', 'also', 'after', 'did', 'many', 'before', 'must', 'af', 'through', 'back', 'years', 'where', 'much', 'your', 'way', 'well', 'down', 'should', 'because', 'each', 'just', 'those', 'people', 'mr.', 'too', 'how', 'little', 'state', 'good', 'very', 'make', 'world', 'still', 'see', 'own', 'men', 'work', 'long', 'here', 'get', 'both', 'between', 'life', 'being', 'under', 'never', 'day', 'same', 'another', 'know', 'while', 'last', 'us', 'might', 'great', 'old', 'year', 'off', 'come', 'since', 'against', 'go', 'came', 'right', 'used', 'take', 'three', 'himself', 'states', 'few', 'house', 'use', 'during', 'without', 'again', 'place', 'american', 'around', 'however', 'home', 'small', 'found', 'mrs.', '1', 'thought', 'went', 'say', 'part', 'once', 'general', 'high', 'upon', 'school', 'every', \"don't\", 'does', 'got', 'united', 'left', 'number', 'course', 'war', 'until', 'always', 'away', 'something', 'fact', '2', 'water', 'though', 'public', 'less', 'put', 'think', 'almost', 'hand', 'enough', 'took', 'far', 'head', 'yet', 'government', 'system', 'set', 'better', 'told', 'night', 'nothing', 'end', 'why', \"didn't\", 'called', 'eyes', 'find', 'going', 'look', 'asked', 'later', 'knew', 'point', 'next', 'program', 'city', 'business', 'group', 'give', 'toward', 'young', 'let', 'days', 'room', 'president', 'side', 'social', 'present', 'given', 'several', 'order', 'national', 'possible', 'rather', 'second', 'face', 'per', 'among', 'form', 'often', 'important', 'things', 'looked', 'early', 'white', 'john', 'case', 'large', 'four', 'need', 'big', 'become', 'within', 'felt', 'children', 'along', 'saw', 'best', 'church', 'ever', 'least', 'power', 'development', 'seemed', 'thing', 'light', 'family', 'interest', 'want', 'members', 'mind', 'area', 'country', 'others', 'although', 'turned', 'done', 'open']\n"
     ]
    }
   ],
   "source": [
    "bad_words = [w for w,t in FreqDist([word.lower() for word in bc]).most_common(300)]\n",
    "print(bad_words)"
   ]
  },
  {
   "cell_type": "code",
   "execution_count": 18,
   "id": "7c296800",
   "metadata": {},
   "outputs": [
    {
     "name": "stdout",
     "output_type": "stream",
     "text": [
      "['time', 'man', 'way', 'world', 'life', 'year', 'day', 'work', 'state', 'home', 'place', 'part', 'number', 'course', 'fact', 'water', 'something', 'hand', 'school', 'head', 'house', 'night', 'nothing', 'system', 'group', 'program', 'order', 'business', 'room', 'side', 'use', 'end', 'case', 'point', 'thing', 'power', 'interest', 'face', 'area', 'country', 'problem', 'family', 'kind', 'development', 'door', 'war', 'sense', 'form', 'matter', 'action']\n"
     ]
    }
   ],
   "source": [
    "bad_nouns = [w for w,count in FreqDist(bc_nouns).most_common(50)]\n",
    "print(bad_nouns)"
   ]
  },
  {
   "cell_type": "code",
   "execution_count": 19,
   "id": "97fb3e89",
   "metadata": {},
   "outputs": [
    {
     "name": "stdout",
     "output_type": "stream",
     "text": [
      "['other', 'such', 'new', 'first', 'many', 'good', 'little', 'own', 'same', 'last', 'great', 'much', 'few', 'old', 'small', 'high', 'american', 'long', 'possible', 'several', 'important', 'next', 'large', 'young', 'social', 'second', 'big', 'present', 'public', 'general', 'different', 'certain', 'only', 'human', 'local', 'early', 'political', 'real', 'whole', 'white', 'special', 'open', 'available', 'free', 'sure', 'major', 'full', 'necessary', 'economic', 'true']\n"
     ]
    }
   ],
   "source": [
    "bad_adjectives = [w for w,count in FreqDist(bc_adjectives).most_common(50)]\n",
    "print(bad_adjectives)"
   ]
  },
  {
   "cell_type": "code",
   "execution_count": 20,
   "id": "5b94ac0a",
   "metadata": {},
   "outputs": [
    {
     "name": "stdout",
     "output_type": "stream",
     "text": [
      "['is', 'be', 'has', 'have', 'do', 'make', 'see', 'get', 'take', 'does', 'go', 'know', 'say', 'give', 'let', 'find', 'come', 'seems', 'keep', 'think', 'tell', 'look', 'says', 'become', 'help', 'provide', 'makes', 'use', 'put', 'work', \"didn't\", 'bring', 'comes', 'show', 'leave', 'feel', 'meet', 'pay', 'gives', 'means', 'seem', 'hear', 'turn', 'remember', 'hold', 'try', 'determine', 'want', 'run', 'move', 'consider', 'knows', 'ask', 'live', 'write', 'understand', 'becomes', 'goes', 'mean', 'call', 'takes', 'believe', 'expect', 'develop', 'read', 'talk', 'appears', 'serve', 'provides', 'speak', 'stop', 'continue', 'play', 'build', 'remains', 'start', 'follows', 'stay', 'increase', 'prevent', 'reach', 'faces', 'looks', 'set', 'wants', 'add', 'stand', 'follow', 'like', 'carry', 'appear', 'cut', 'gets', 'shows', \"it's\", 'receive', 'send', 'reduce', 'allow', 'need']\n"
     ]
    }
   ],
   "source": [
    "bad_verbs = [w for w,count in FreqDist(bc_verbs).most_common(100)]\n",
    "print(bad_verbs)"
   ]
  },
  {
   "cell_type": "code",
   "execution_count": 21,
   "id": "34acb2c1",
   "metadata": {},
   "outputs": [
    {
     "data": {
      "text/plain": [
       "['i', 'me', 'my', 'myself', 'we', 'our', 'ours', 'ourselves', 'you', \"you're\"]"
      ]
     },
     "execution_count": 21,
     "metadata": {},
     "output_type": "execute_result"
    }
   ],
   "source": [
    "from nltk import corpus\n",
    "stops = corpus.stopwords.words('english')\n",
    "stops[:10]"
   ]
  },
  {
   "cell_type": "code",
   "execution_count": 22,
   "id": "5bdcc7ea",
   "metadata": {},
   "outputs": [],
   "source": [
    "dont_like = ['have','come','go','same','join','same','year','like'] \n",
    "dont_like = dont_like + bad_nouns + bad_adjectives + bad_verbs + stops\n",
    "\n",
    "for word in dont_like:\n",
    "    cursor.execute(\"DELETE from allusions WHERE (target=?)\", (word,))\n",
    "connection.commit()"
   ]
  },
  {
   "cell_type": "markdown",
   "id": "711d66c6",
   "metadata": {},
   "source": [
    "***\n",
    "Total remaining allusions?"
   ]
  },
  {
   "cell_type": "code",
   "execution_count": 23,
   "id": "27175872",
   "metadata": {},
   "outputs": [
    {
     "data": {
      "text/plain": [
       "<sqlite3.Cursor at 0x7fc959a53ce0>"
      ]
     },
     "execution_count": 23,
     "metadata": {},
     "output_type": "execute_result"
    }
   ],
   "source": [
    "cursor.execute(\"SELECT COUNT(*) FROM allusions\")"
   ]
  },
  {
   "cell_type": "code",
   "execution_count": 24,
   "id": "9789b6e8",
   "metadata": {},
   "outputs": [
    {
     "data": {
      "text/plain": [
       "[(1297296,)]"
      ]
     },
     "execution_count": 24,
     "metadata": {},
     "output_type": "execute_result"
    }
   ],
   "source": [
    "cursor.fetchall()"
   ]
  },
  {
   "cell_type": "markdown",
   "id": "a56fbd53",
   "metadata": {},
   "source": [
    "***"
   ]
  }
 ],
 "metadata": {
  "kernelspec": {
   "display_name": "wiki",
   "language": "python",
   "name": "wiki"
  },
  "language_info": {
   "codemirror_mode": {
    "name": "ipython",
    "version": 3
   },
   "file_extension": ".py",
   "mimetype": "text/x-python",
   "name": "python",
   "nbconvert_exporter": "python",
   "pygments_lexer": "ipython3",
   "version": "3.9.15"
  }
 },
 "nbformat": 4,
 "nbformat_minor": 5
}
