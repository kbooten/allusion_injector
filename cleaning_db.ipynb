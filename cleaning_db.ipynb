{
 "cells": [
  {
   "cell_type": "markdown",
   "id": "9ad5fdcd",
   "metadata": {},
   "source": [
    "# Cleaning\n",
    "\n",
    "Removing some unwanted target words from the allusion database."
   ]
  },
  {
   "cell_type": "code",
   "execution_count": 1,
   "id": "657a7007",
   "metadata": {},
   "outputs": [],
   "source": [
    "import sqlite3\n",
    "connection = sqlite3.connect(\"wiki_to_use.db\")\n",
    "cursor = connection.cursor()"
   ]
  },
  {
   "cell_type": "markdown",
   "id": "aaa36767",
   "metadata": {},
   "source": [
    "**Get rid of everything but `VERB`,`NOUN`, and `ADJ` targets.**"
   ]
  },
  {
   "cell_type": "code",
   "execution_count": 2,
   "id": "ca2f77d0",
   "metadata": {},
   "outputs": [],
   "source": [
    "cursor.execute(\"SELECT target,target_pos FROM allusions\")\n",
    "rows = cursor.fetchall()\n",
    "\n",
    "word_pos_tups = []\n",
    "\n",
    "for r in rows:\n",
    "    word_pos_tups.append(r)"
   ]
  },
  {
   "cell_type": "code",
   "execution_count": 3,
   "id": "0d914bc1",
   "metadata": {},
   "outputs": [
    {
     "data": {
      "text/plain": [
       "3751757"
      ]
     },
     "execution_count": 3,
     "metadata": {},
     "output_type": "execute_result"
    }
   ],
   "source": [
    "len(word_pos_tups)"
   ]
  },
  {
   "cell_type": "code",
   "execution_count": 4,
   "id": "cb1ff481",
   "metadata": {},
   "outputs": [
    {
     "data": {
      "text/plain": [
       "[('child', 'NOUN'),\n",
       " ('be', 'AUX'),\n",
       " ('beneficial', 'ADJ'),\n",
       " ('refer', 'VERB'),\n",
       " ('mock', 'VERB')]"
      ]
     },
     "execution_count": 4,
     "metadata": {},
     "output_type": "execute_result"
    }
   ],
   "source": [
    "word_pos_tups[:5]"
   ]
  },
  {
   "cell_type": "code",
   "execution_count": 5,
   "id": "8ee6d129",
   "metadata": {},
   "outputs": [
    {
     "data": {
      "text/plain": [
       "['PUNCT',\n",
       " 'ADV',\n",
       " 'CCONJ',\n",
       " 'VERB',\n",
       " 'NOUN',\n",
       " 'PROPN',\n",
       " 'AUX',\n",
       " 'DET',\n",
       " 'SCONJ',\n",
       " 'PRON',\n",
       " 'INTJ',\n",
       " 'PART',\n",
       " 'NUM',\n",
       " 'SYM',\n",
       " 'X',\n",
       " 'ADP',\n",
       " 'ADJ']"
      ]
     },
     "execution_count": 5,
     "metadata": {},
     "output_type": "execute_result"
    }
   ],
   "source": [
    "all_target_tags = list(set([tag for word,tag in word_pos_tups]))\n",
    "all_target_tags"
   ]
  },
  {
   "cell_type": "code",
   "execution_count": 6,
   "id": "d544d738",
   "metadata": {},
   "outputs": [],
   "source": [
    "for tag in all_target_tags:\n",
    "    if tag not in [\"ADJ\",\"NOUN\",\"VERB\"]:\n",
    "        cursor.execute(\"DELETE from allusions WHERE target_pos=?\", (tag,))\n",
    "connection.commit()"
   ]
  },
  {
   "cell_type": "markdown",
   "id": "57130634",
   "metadata": {},
   "source": [
    "**Get rid of everything that isn't in wordnet with the correct part of speech.**"
   ]
  },
  {
   "cell_type": "code",
   "execution_count": 7,
   "id": "91fc8e51",
   "metadata": {},
   "outputs": [],
   "source": [
    "cursor.execute(\"SELECT target,target_pos FROM allusions\")\n",
    "rows = cursor.fetchall()\n",
    "\n",
    "word_pos_tups = []\n",
    "\n",
    "for r in rows:\n",
    "    word_pos_tups.append(r)"
   ]
  },
  {
   "cell_type": "code",
   "execution_count": 8,
   "id": "927f2f03",
   "metadata": {},
   "outputs": [
    {
     "name": "stderr",
     "output_type": "stream",
     "text": [
      "[nltk_data] Downloading package omw-1.4 to /Users/kyle/nltk_data...\n",
      "[nltk_data]   Package omw-1.4 is already up-to-date!\n"
     ]
    },
    {
     "data": {
      "text/plain": [
       "True"
      ]
     },
     "execution_count": 8,
     "metadata": {},
     "output_type": "execute_result"
    }
   ],
   "source": [
    "import nltk\n",
    "nltk.download('omw-1.4')"
   ]
  },
  {
   "cell_type": "code",
   "execution_count": 9,
   "id": "79dcea05",
   "metadata": {},
   "outputs": [],
   "source": [
    "from nltk.corpus import wordnet"
   ]
  },
  {
   "cell_type": "code",
   "execution_count": 10,
   "id": "166b6474",
   "metadata": {},
   "outputs": [],
   "source": [
    "#wordnet.synsets('dog','p')"
   ]
  },
  {
   "cell_type": "code",
   "execution_count": 11,
   "id": "af461005",
   "metadata": {},
   "outputs": [
    {
     "data": {
      "text/plain": [
       "[('child', 'NOUN'),\n",
       " ('beneficial', 'ADJ'),\n",
       " ('refer', 'VERB'),\n",
       " ('mock', 'VERB'),\n",
       " ('policy', 'NOUN'),\n",
       " ('ease', 'VERB'),\n",
       " ('Modest', 'ADJ'),\n",
       " ('juvenalian', 'ADJ'),\n",
       " ('satirical', 'ADJ'),\n",
       " ('british', 'ADJ')]"
      ]
     },
     "execution_count": 11,
     "metadata": {},
     "output_type": "execute_result"
    }
   ],
   "source": [
    "word_pos_tups[:10]"
   ]
  },
  {
   "cell_type": "code",
   "execution_count": 12,
   "id": "106f85a6",
   "metadata": {},
   "outputs": [
    {
     "name": "stdout",
     "output_type": "stream",
     "text": [
      "CPU times: user 5.29 s, sys: 115 ms, total: 5.4 s\n",
      "Wall time: 5.47 s\n"
     ]
    }
   ],
   "source": [
    "%%time\n",
    "\n",
    "to_delete_based_on_wordnet = []\n",
    "for word,tag in list(set(word_pos_tups)):\n",
    "    synsets = wordnet.synsets(word.lower(), pos=tag.lower()[0])\n",
    "    if len(synsets)==0:\n",
    "        to_delete_based_on_wordnet.append((word,tag))\n",
    "#         cursor.execute(\"DELETE from allusions WHERE (target=? AND target_pos=?)\", (word,tag))\n",
    "#connection.commit()"
   ]
  },
  {
   "cell_type": "code",
   "execution_count": 13,
   "id": "a417e45f",
   "metadata": {},
   "outputs": [
    {
     "data": {
      "text/plain": [
       "32066"
      ]
     },
     "execution_count": 13,
     "metadata": {},
     "output_type": "execute_result"
    }
   ],
   "source": [
    "len(to_delete_based_on_wordnet)"
   ]
  },
  {
   "cell_type": "code",
   "execution_count": 14,
   "id": "1795b560",
   "metadata": {},
   "outputs": [],
   "source": [
    "from tqdm import tqdm"
   ]
  },
  {
   "cell_type": "code",
   "execution_count": 15,
   "id": "716fdb10",
   "metadata": {},
   "outputs": [
    {
     "name": "stderr",
     "output_type": "stream",
     "text": [
      "100%|███████████████████████████████████| 32066/32066 [2:37:22<00:00,  3.40it/s]\n"
     ]
    }
   ],
   "source": [
    "## huh...outrageously slow to delete from sqlite\n",
    "## should not have used sqlite\n",
    "## should have used a dictionary\n",
    "## too late now, maybe change later\n",
    "for i in tqdm(to_delete_based_on_wordnet):\n",
    "    synsets = wordnet.synsets(word.lower(), pos=tag.lower()[0])\n",
    "    cursor.execute(\"DELETE from allusions WHERE (target=? AND target_pos=?)\", i)\n",
    "\n",
    "connection.commit()"
   ]
  },
  {
   "cell_type": "markdown",
   "id": "408bf26e",
   "metadata": {},
   "source": [
    "**Stopwords+**"
   ]
  },
  {
   "cell_type": "code",
   "execution_count": 16,
   "id": "147129a5",
   "metadata": {},
   "outputs": [],
   "source": [
    "from nltk import corpus\n",
    "from nltk import FreqDist\n",
    "\n",
    "bc = corpus.brown.words()\n",
    "\n",
    "from nltk import pos_tag\n",
    "bc_tagged = pos_tag(bc)\n",
    "\n",
    "bc_nouns = [w.lower() for w,t in bc_tagged if t==\"NN\"]\n",
    "bc_adjectives = [w.lower() for w,t in bc_tagged if t==\"JJ\"]\n",
    "bc_verbs = [w.lower() for w,t in bc_tagged if t in [\"VB\",\"VBZ\"]]"
   ]
  },
  {
   "cell_type": "code",
   "execution_count": 17,
   "id": "2448ec3f",
   "metadata": {
    "scrolled": false
   },
   "outputs": [
    {
     "name": "stdout",
     "output_type": "stream",
     "text": [
      "['the', ',', '.', 'of', 'and', 'to', 'a', 'in', 'that', 'is', 'was', 'he', 'for', '``', \"''\", 'it', 'with', 'as', 'his', 'on', 'be', ';', 'at', 'by', 'i', 'this', 'had', '?', 'not', 'are', 'but', 'from', 'or', 'have', 'an', 'they', 'which', '--', 'one', 'you', 'were', 'her', 'all', 'she', 'there', 'would', 'their', 'we', 'him', 'been', ')', 'has', '(', 'when', 'who', 'will', 'more', 'if', 'no', 'out', 'so', 'said', 'what', 'up', 'its', 'about', ':', 'into', 'than', 'them', 'can', 'only', 'other', 'new', 'some', 'could', 'time', '!', 'these', 'two', 'may', 'then', 'do', 'first', 'any', 'my', 'now', 'such', 'like', 'our', 'over', 'man', 'me', 'even', 'most', 'made', 'also', 'after', 'did', 'many']\n"
     ]
    }
   ],
   "source": [
    "bad_words = [w for w,t in FreqDist([word.lower() for word in bc]).most_common(100)]\n",
    "print(bad_words)"
   ]
  },
  {
   "cell_type": "code",
   "execution_count": 18,
   "id": "7c296800",
   "metadata": {},
   "outputs": [
    {
     "name": "stdout",
     "output_type": "stream",
     "text": [
      "['time', 'man', 'way', 'world', 'life', 'year', 'day', 'work', 'state', 'home', 'place', 'part', 'number', 'course', 'fact', 'water', 'something', 'hand', 'school', 'head', 'house', 'night', 'nothing', 'system', 'group']\n"
     ]
    }
   ],
   "source": [
    "bad_nouns = [w for w,count in FreqDist(bc_nouns).most_common(25)]\n",
    "print(bad_nouns)"
   ]
  },
  {
   "cell_type": "code",
   "execution_count": 19,
   "id": "97fb3e89",
   "metadata": {},
   "outputs": [
    {
     "name": "stdout",
     "output_type": "stream",
     "text": [
      "['other', 'such', 'new', 'first', 'many', 'good', 'little', 'own', 'same', 'last', 'great', 'much', 'few', 'old', 'small', 'high', 'american', 'long', 'possible', 'several', 'important', 'next', 'large', 'young', 'social']\n"
     ]
    }
   ],
   "source": [
    "bad_adjectives = [w for w,count in FreqDist(bc_adjectives).most_common(25)]\n",
    "print(bad_adjectives)"
   ]
  },
  {
   "cell_type": "code",
   "execution_count": 20,
   "id": "5b94ac0a",
   "metadata": {},
   "outputs": [
    {
     "name": "stdout",
     "output_type": "stream",
     "text": [
      "['is', 'be', 'has', 'have', 'do', 'make', 'see', 'get', 'take', 'does', 'go', 'know', 'say', 'give', 'let', 'find', 'come', 'seems', 'keep', 'think', 'tell', 'look', 'says', 'become', 'help', 'provide', 'makes', 'use', 'put', 'work', \"didn't\", 'bring', 'comes', 'show', 'leave', 'feel', 'meet', 'pay', 'gives', 'means', 'seem', 'hear', 'turn', 'remember', 'hold', 'try', 'determine', 'want', 'run', 'move']\n"
     ]
    }
   ],
   "source": [
    "bad_verbs = [w for w,count in FreqDist(bc_verbs).most_common(50)]\n",
    "print(bad_verbs)"
   ]
  },
  {
   "cell_type": "code",
   "execution_count": 21,
   "id": "34acb2c1",
   "metadata": {},
   "outputs": [
    {
     "data": {
      "text/plain": [
       "['i', 'me', 'my', 'myself', 'we', 'our', 'ours', 'ourselves', 'you', \"you're\"]"
      ]
     },
     "execution_count": 21,
     "metadata": {},
     "output_type": "execute_result"
    }
   ],
   "source": [
    "from nltk import corpus\n",
    "stops = corpus.stopwords.words('english')\n",
    "stops[:10]"
   ]
  },
  {
   "cell_type": "code",
   "execution_count": 22,
   "id": "5bdcc7ea",
   "metadata": {},
   "outputs": [],
   "source": [
    "dont_like = ['have','come','go','same','join','same','year','like'] \n",
    "dont_like = dont_like + bad_nouns + bad_adjectives + bad_verbs + stops\n",
    "\n",
    "for word in dont_like:\n",
    "    cursor.execute(\"DELETE from allusions WHERE (target=?)\", (word,))\n",
    "connection.commit()"
   ]
  },
  {
   "cell_type": "markdown",
   "id": "711d66c6",
   "metadata": {},
   "source": [
    "***\n",
    "Total remaining allusions?"
   ]
  },
  {
   "cell_type": "code",
   "execution_count": 23,
   "id": "27175872",
   "metadata": {},
   "outputs": [
    {
     "data": {
      "text/plain": [
       "<sqlite3.Cursor at 0x7ffa60d03d50>"
      ]
     },
     "execution_count": 23,
     "metadata": {},
     "output_type": "execute_result"
    }
   ],
   "source": [
    "cursor.execute(\"SELECT COUNT(*) FROM allusions\")"
   ]
  },
  {
   "cell_type": "code",
   "execution_count": 24,
   "id": "9789b6e8",
   "metadata": {},
   "outputs": [
    {
     "data": {
      "text/plain": [
       "[(2429069,)]"
      ]
     },
     "execution_count": 24,
     "metadata": {},
     "output_type": "execute_result"
    }
   ],
   "source": [
    "cursor.fetchall()"
   ]
  },
  {
   "cell_type": "markdown",
   "id": "a56fbd53",
   "metadata": {},
   "source": [
    "***"
   ]
  }
 ],
 "metadata": {
  "kernelspec": {
   "display_name": "wiki",
   "language": "python",
   "name": "wiki"
  },
  "language_info": {
   "codemirror_mode": {
    "name": "ipython",
    "version": 3
   },
   "file_extension": ".py",
   "mimetype": "text/x-python",
   "name": "python",
   "nbconvert_exporter": "python",
   "pygments_lexer": "ipython3",
   "version": "3.9.15"
  }
 },
 "nbformat": 4,
 "nbformat_minor": 5
}
