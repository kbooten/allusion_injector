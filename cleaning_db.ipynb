{
 "cells": [
  {
   "cell_type": "markdown",
   "id": "9ad5fdcd",
   "metadata": {},
   "source": [
    "# Cleaning\n",
    "\n",
    "Removing some unwanted target words from the allusion database."
   ]
  },
  {
   "cell_type": "code",
   "execution_count": 1,
   "id": "657a7007",
   "metadata": {},
   "outputs": [],
   "source": [
    "import sqlite3\n",
    "connection = sqlite3.connect(\"wiki_to_use.db\")\n",
    "cursor = connection.cursor()"
   ]
  },
  {
   "cell_type": "markdown",
   "id": "aaa36767",
   "metadata": {},
   "source": [
    "**Get rid of everything but `VERB`,`NOUN`, and `ADJ` targets.**"
   ]
  },
  {
   "cell_type": "code",
   "execution_count": 3,
   "id": "ca2f77d0",
   "metadata": {},
   "outputs": [],
   "source": [
    "cursor.execute(\"SELECT target,target_pos FROM allusions\")\n",
    "rows = cursor.fetchall()\n",
    "\n",
    "word_pos_tups = []\n",
    "\n",
    "for r in rows:\n",
    "    word_pos_tups.append(r)"
   ]
  },
  {
   "cell_type": "code",
   "execution_count": 4,
   "id": "0d914bc1",
   "metadata": {},
   "outputs": [
    {
     "data": {
      "text/plain": [
       "2255871"
      ]
     },
     "execution_count": 4,
     "metadata": {},
     "output_type": "execute_result"
    }
   ],
   "source": [
    "len(word_pos_tups)"
   ]
  },
  {
   "cell_type": "code",
   "execution_count": 5,
   "id": "cb1ff481",
   "metadata": {},
   "outputs": [
    {
     "data": {
      "text/plain": [
       "[('children', 'NOUN'),\n",
       " ('ease', 'VERB'),\n",
       " ('modest', 'ADJ'),\n",
       " ('juvenalian', 'ADJ'),\n",
       " ('satirical', 'ADJ')]"
      ]
     },
     "execution_count": 5,
     "metadata": {},
     "output_type": "execute_result"
    }
   ],
   "source": [
    "word_pos_tups[:5]"
   ]
  },
  {
   "cell_type": "code",
   "execution_count": 6,
   "id": "8ee6d129",
   "metadata": {},
   "outputs": [
    {
     "data": {
      "text/plain": [
       "['ADV',\n",
       " 'X',\n",
       " 'PART',\n",
       " 'NOUN',\n",
       " 'PRON',\n",
       " 'ADP',\n",
       " 'SCONJ',\n",
       " 'VERB',\n",
       " 'SYM',\n",
       " 'CCONJ',\n",
       " 'DET',\n",
       " 'PUNCT',\n",
       " 'PROPN',\n",
       " 'ADJ',\n",
       " 'AUX',\n",
       " 'INTJ',\n",
       " 'NUM']"
      ]
     },
     "execution_count": 6,
     "metadata": {},
     "output_type": "execute_result"
    }
   ],
   "source": [
    "all_target_tags = list(set([tag for word,tag in word_pos_tups]))\n",
    "all_target_tags"
   ]
  },
  {
   "cell_type": "code",
   "execution_count": 7,
   "id": "d544d738",
   "metadata": {},
   "outputs": [],
   "source": [
    "for tag in all_target_tags:\n",
    "    if tag not in [\"ADJ\",\"NOUN\",\"VERB\"]:\n",
    "        cursor.execute(\"DELETE from allusions WHERE target_pos=?\", (tag,))\n",
    "connection.commit()"
   ]
  },
  {
   "cell_type": "markdown",
   "id": "57130634",
   "metadata": {},
   "source": [
    "**Get rid of everything that isn't in wordnet with the correct part of speech.**"
   ]
  },
  {
   "cell_type": "code",
   "execution_count": 8,
   "id": "91fc8e51",
   "metadata": {},
   "outputs": [],
   "source": [
    "cursor.execute(\"SELECT target,target_pos FROM allusions\")\n",
    "rows = cursor.fetchall()\n",
    "\n",
    "word_pos_tups = []\n",
    "\n",
    "for r in rows:\n",
    "    word_pos_tups.append(r)"
   ]
  },
  {
   "cell_type": "code",
   "execution_count": 9,
   "id": "927f2f03",
   "metadata": {},
   "outputs": [
    {
     "name": "stderr",
     "output_type": "stream",
     "text": [
      "[nltk_data] Downloading package omw-1.4 to /Users/kyle/nltk_data...\n",
      "[nltk_data]   Package omw-1.4 is already up-to-date!\n"
     ]
    },
    {
     "data": {
      "text/plain": [
       "True"
      ]
     },
     "execution_count": 9,
     "metadata": {},
     "output_type": "execute_result"
    }
   ],
   "source": [
    "import nltk\n",
    "nltk.download('omw-1.4')"
   ]
  },
  {
   "cell_type": "code",
   "execution_count": 10,
   "id": "79dcea05",
   "metadata": {},
   "outputs": [],
   "source": [
    "from nltk.corpus import wordnet"
   ]
  },
  {
   "cell_type": "code",
   "execution_count": 11,
   "id": "166b6474",
   "metadata": {},
   "outputs": [],
   "source": [
    "#wordnet.synsets('dog','p')"
   ]
  },
  {
   "cell_type": "code",
   "execution_count": 12,
   "id": "af461005",
   "metadata": {},
   "outputs": [
    {
     "data": {
      "text/plain": [
       "[('children', 'NOUN'),\n",
       " ('ease', 'VERB'),\n",
       " ('modest', 'ADJ'),\n",
       " ('juvenalian', 'ADJ'),\n",
       " ('satirical', 'ADJ'),\n",
       " ('british', 'ADJ'),\n",
       " ('juvenalian', 'ADJ'),\n",
       " ('satirical', 'ADJ'),\n",
       " ('essay', 'NOUN'),\n",
       " ('papist', 'NOUN')]"
      ]
     },
     "execution_count": 12,
     "metadata": {},
     "output_type": "execute_result"
    }
   ],
   "source": [
    "word_pos_tups[:10]"
   ]
  },
  {
   "cell_type": "code",
   "execution_count": 13,
   "id": "106f85a6",
   "metadata": {},
   "outputs": [
    {
     "name": "stdout",
     "output_type": "stream",
     "text": [
      "CPU times: user 3.81 s, sys: 60.5 ms, total: 3.87 s\n",
      "Wall time: 3.9 s\n"
     ]
    }
   ],
   "source": [
    "%%time\n",
    "\n",
    "to_delete_based_on_wordnet = []\n",
    "for word,tag in list(set(word_pos_tups)):\n",
    "    synsets = wordnet.synsets(word.lower(), pos=tag.lower()[0])\n",
    "    if len(synsets)==0:\n",
    "        to_delete_based_on_wordnet.append((word,tag))\n",
    "#         cursor.execute(\"DELETE from allusions WHERE (target=? AND target_pos=?)\", (word,tag))\n",
    "#connection.commit()"
   ]
  },
  {
   "cell_type": "code",
   "execution_count": 14,
   "id": "a417e45f",
   "metadata": {},
   "outputs": [
    {
     "data": {
      "text/plain": [
       "17131"
      ]
     },
     "execution_count": 14,
     "metadata": {},
     "output_type": "execute_result"
    }
   ],
   "source": [
    "len(to_delete_based_on_wordnet)"
   ]
  },
  {
   "cell_type": "code",
   "execution_count": 15,
   "id": "1795b560",
   "metadata": {},
   "outputs": [],
   "source": [
    "from tqdm import tqdm"
   ]
  },
  {
   "cell_type": "code",
   "execution_count": 16,
   "id": "716fdb10",
   "metadata": {},
   "outputs": [
    {
     "name": "stderr",
     "output_type": "stream",
     "text": [
      "100%|█████████████████████████████████████| 17131/17131 [57:29<00:00,  4.97it/s]\n"
     ]
    }
   ],
   "source": [
    "## huh...outrageously slow to delete from sqlite\n",
    "## should not have used sqlite\n",
    "## should have used a dictionary\n",
    "## too late now, maybe change later\n",
    "for i in tqdm(to_delete_based_on_wordnet):\n",
    "    synsets = wordnet.synsets(word.lower(), pos=tag.lower()[0])\n",
    "    cursor.execute(\"DELETE from allusions WHERE (target=? AND target_pos=?)\", i)\n",
    "\n",
    "connection.commit()"
   ]
  },
  {
   "cell_type": "markdown",
   "id": "408bf26e",
   "metadata": {},
   "source": [
    "**Stopwords+**"
   ]
  },
  {
   "cell_type": "code",
   "execution_count": 17,
   "id": "147129a5",
   "metadata": {},
   "outputs": [],
   "source": [
    "from nltk import corpus\n",
    "from nltk import FreqDist\n",
    "\n",
    "bc = corpus.brown.words()\n",
    "\n",
    "from nltk import pos_tag\n",
    "bc_tagged = pos_tag(bc)\n",
    "\n",
    "bc_nouns = [w.lower() for w,t in bc_tagged if t==\"NN\"]\n",
    "bc_adjectives = [w.lower() for w,t in bc_tagged if t==\"JJ\"]\n",
    "bc_verbs = [w.lower() for w,t in bc_tagged if t in [\"VB\",\"VBZ\"]]"
   ]
  },
  {
   "cell_type": "code",
   "execution_count": 18,
   "id": "7c296800",
   "metadata": {},
   "outputs": [
    {
     "data": {
      "text/plain": [
       "['time',\n",
       " 'man',\n",
       " 'way',\n",
       " 'world',\n",
       " 'life',\n",
       " 'year',\n",
       " 'day',\n",
       " 'work',\n",
       " 'state',\n",
       " 'home',\n",
       " 'place',\n",
       " 'part',\n",
       " 'number',\n",
       " 'course',\n",
       " 'fact',\n",
       " 'water',\n",
       " 'something',\n",
       " 'hand',\n",
       " 'school',\n",
       " 'head',\n",
       " 'house',\n",
       " 'night',\n",
       " 'nothing',\n",
       " 'system',\n",
       " 'group']"
      ]
     },
     "execution_count": 18,
     "metadata": {},
     "output_type": "execute_result"
    }
   ],
   "source": [
    "bad_nouns = [w for w,count in FreqDist(bc_nouns).most_common(25)]\n",
    "bad_nouns"
   ]
  },
  {
   "cell_type": "code",
   "execution_count": 19,
   "id": "97fb3e89",
   "metadata": {},
   "outputs": [
    {
     "data": {
      "text/plain": [
       "['other',\n",
       " 'such',\n",
       " 'new',\n",
       " 'first',\n",
       " 'many',\n",
       " 'good',\n",
       " 'little',\n",
       " 'own',\n",
       " 'same',\n",
       " 'last',\n",
       " 'great',\n",
       " 'much',\n",
       " 'few',\n",
       " 'old',\n",
       " 'small',\n",
       " 'high',\n",
       " 'american',\n",
       " 'long',\n",
       " 'possible',\n",
       " 'several',\n",
       " 'important',\n",
       " 'next',\n",
       " 'large',\n",
       " 'young',\n",
       " 'social',\n",
       " 'second',\n",
       " 'big',\n",
       " 'present',\n",
       " 'public',\n",
       " 'general']"
      ]
     },
     "execution_count": 19,
     "metadata": {},
     "output_type": "execute_result"
    }
   ],
   "source": [
    "bad_adjectives = [w for w,count in FreqDist(bc_adjectives).most_common(30)]\n",
    "bad_adjectives"
   ]
  },
  {
   "cell_type": "code",
   "execution_count": 20,
   "id": "5b94ac0a",
   "metadata": {},
   "outputs": [
    {
     "data": {
      "text/plain": [
       "['is',\n",
       " 'be',\n",
       " 'has',\n",
       " 'have',\n",
       " 'do',\n",
       " 'make',\n",
       " 'see',\n",
       " 'get',\n",
       " 'take',\n",
       " 'does',\n",
       " 'go',\n",
       " 'know',\n",
       " 'say',\n",
       " 'give',\n",
       " 'let',\n",
       " 'find',\n",
       " 'come',\n",
       " 'seems',\n",
       " 'keep',\n",
       " 'think',\n",
       " 'tell',\n",
       " 'look',\n",
       " 'says',\n",
       " 'become',\n",
       " 'help',\n",
       " 'provide',\n",
       " 'makes',\n",
       " 'use',\n",
       " 'put',\n",
       " 'work',\n",
       " \"didn't\",\n",
       " 'bring',\n",
       " 'comes',\n",
       " 'show',\n",
       " 'leave',\n",
       " 'feel',\n",
       " 'meet',\n",
       " 'pay',\n",
       " 'gives',\n",
       " 'means',\n",
       " 'seem',\n",
       " 'hear',\n",
       " 'turn',\n",
       " 'remember',\n",
       " 'hold',\n",
       " 'try',\n",
       " 'determine',\n",
       " 'want',\n",
       " 'run',\n",
       " 'move']"
      ]
     },
     "execution_count": 20,
     "metadata": {},
     "output_type": "execute_result"
    }
   ],
   "source": [
    "bad_verbs = [w for w,count in FreqDist(bc_verbs).most_common(50)]\n",
    "bad_verbs"
   ]
  },
  {
   "cell_type": "code",
   "execution_count": 21,
   "id": "34acb2c1",
   "metadata": {},
   "outputs": [
    {
     "data": {
      "text/plain": [
       "['i', 'me', 'my', 'myself', 'we', 'our', 'ours', 'ourselves', 'you', \"you're\"]"
      ]
     },
     "execution_count": 21,
     "metadata": {},
     "output_type": "execute_result"
    }
   ],
   "source": [
    "from nltk import corpus\n",
    "stops = corpus.stopwords.words('english')\n",
    "stops[:10]"
   ]
  },
  {
   "cell_type": "code",
   "execution_count": 22,
   "id": "5bdcc7ea",
   "metadata": {},
   "outputs": [],
   "source": [
    "dont_like = ['have','come','go','same','join','same','year'] \n",
    "dont_like = dont_like + bad_nouns + bad_adjectives + bad_verbs + stops\n",
    "\n",
    "for word in dont_like:\n",
    "    cursor.execute(\"DELETE from allusions WHERE (target=?)\", (word,))\n",
    "connection.commit()"
   ]
  },
  {
   "cell_type": "markdown",
   "id": "711d66c6",
   "metadata": {},
   "source": [
    "***\n",
    "Total remaining allusions?"
   ]
  },
  {
   "cell_type": "code",
   "execution_count": 23,
   "id": "27175872",
   "metadata": {},
   "outputs": [
    {
     "data": {
      "text/plain": [
       "<sqlite3.Cursor at 0x7f8a38973d50>"
      ]
     },
     "execution_count": 23,
     "metadata": {},
     "output_type": "execute_result"
    }
   ],
   "source": [
    "cursor.execute(\"SELECT COUNT(*) FROM allusions\")"
   ]
  },
  {
   "cell_type": "code",
   "execution_count": 24,
   "id": "9789b6e8",
   "metadata": {},
   "outputs": [
    {
     "data": {
      "text/plain": [
       "[(1439179,)]"
      ]
     },
     "execution_count": 24,
     "metadata": {},
     "output_type": "execute_result"
    }
   ],
   "source": [
    "cursor.fetchall()"
   ]
  },
  {
   "cell_type": "markdown",
   "id": "a56fbd53",
   "metadata": {},
   "source": [
    "***"
   ]
  }
 ],
 "metadata": {
  "kernelspec": {
   "display_name": "wiki",
   "language": "python",
   "name": "wiki"
  },
  "language_info": {
   "codemirror_mode": {
    "name": "ipython",
    "version": 3
   },
   "file_extension": ".py",
   "mimetype": "text/x-python",
   "name": "python",
   "nbconvert_exporter": "python",
   "pygments_lexer": "ipython3",
   "version": "3.9.15"
  }
 },
 "nbformat": 4,
 "nbformat_minor": 5
}
